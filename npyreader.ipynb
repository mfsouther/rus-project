{
 "cells": [
  {
   "cell_type": "code",
   "execution_count": 1,
   "metadata": {},
   "outputs": [],
   "source": [
    "import numpy as np\n",
    "import matplotlib.pyplot as plt\n",
    "%matplotlib inline"
   ]
  },
  {
   "cell_type": "markdown",
   "metadata": {},
   "source": [
    "Strain of fiber filled matrix (mode 7-9)"
   ]
  },
  {
   "cell_type": "code",
   "execution_count": 7,
   "metadata": {
    "scrolled": true
   },
   "outputs": [
    {
     "name": "stdout",
     "output_type": "stream",
     "text": [
      "[-8.39941650e-05  5.41088777e-05  1.17786734e-05  7.08196919e-04\n",
      " -2.41430488e-03 -5.25587972e-04]\n"
     ]
    }
   ],
   "source": [
    "folder = 'C:\\\\Users\\\\mason\\\\Documents\\\\Python Scripts\\\\rus-project\\\\averages\\\\ee_post_set_averages_fibers\\\\'\n",
    "fname7 = 'out_ALLELEMENTS_EE_frame_0007.npy'\n",
    "ee11fib7 = np.load(folder+fname7)\n",
    "\n",
    "print ee11fib7"
   ]
  },
  {
   "cell_type": "code",
   "execution_count": 8,
   "metadata": {},
   "outputs": [
    {
     "name": "stdout",
     "output_type": "stream",
     "text": [
      "[ 2.99730709e-04  6.26170004e-04 -1.45940798e-03  5.64677121e-04\n",
      "  1.47106004e-03  4.76754201e-05]\n"
     ]
    }
   ],
   "source": [
    "folder = 'C:\\\\Users\\\\mason\\\\Documents\\\\Python Scripts\\\\rus-project\\\\averages\\\\ee_post_set_averages_fibers\\\\'\n",
    "fname8 = 'out_ALLELEMENTS_EE_frame_0008.npy'\n",
    "ee11fib8 = np.load(folder+fname8)\n",
    "\n",
    "print ee11fib8"
   ]
  },
  {
   "cell_type": "code",
   "execution_count": 9,
   "metadata": {},
   "outputs": [
    {
     "name": "stdout",
     "output_type": "stream",
     "text": [
      "[ 0.00015184  0.00029103 -0.00051182 -0.00519104 -0.00704778 -0.00033582]\n"
     ]
    }
   ],
   "source": [
    "folder = 'C:\\\\Users\\\\mason\\\\Documents\\\\Python Scripts\\\\rus-project\\\\averages\\\\ee_post_set_averages_fibers\\\\'\n",
    "fname9 = 'out_ALLELEMENTS_EE_frame_0009.npy'\n",
    "ee11fib9 = np.load(folder+fname9)\n",
    "\n",
    "print ee11fib9"
   ]
  },
  {
   "cell_type": "markdown",
   "metadata": {},
   "source": [
    "Stress of fiber filled matrix (mode 7-9)"
   ]
  },
  {
   "cell_type": "code",
   "execution_count": 19,
   "metadata": {
    "scrolled": true
   },
   "outputs": [
    {
     "name": "stdout",
     "output_type": "stream",
     "text": [
      "[ -1647340.30654532   1762556.28596157   -132671.17351135\n",
      "  10194579.05692741 -35280128.13155646 -15471329.78237147]\n"
     ]
    }
   ],
   "source": [
    "folder = 'C:\\\\Users\\\\mason\\\\Documents\\\\Python Scripts\\\\rus-project\\\\averages\\\\s_post_set_averages_fibers\\\\'\n",
    "fname7 = 'out_ALLELEMENTS_s_frame_0007.npy'\n",
    "sfib7 = np.load(folder+fname7)\n",
    "\n",
    "print sfib7"
   ]
  },
  {
   "cell_type": "code",
   "execution_count": 20,
   "metadata": {
    "scrolled": true
   },
   "outputs": [
    {
     "name": "stdout",
     "output_type": "stream",
     "text": [
      "[ 7.85357798e+06  3.21860533e+07 -1.24810012e+08 -1.60721355e+07\n",
      "  5.04954993e+07 -3.98079619e+06]\n"
     ]
    }
   ],
   "source": [
    "folder = 'C:\\\\Users\\\\mason\\\\Documents\\\\Python Scripts\\\\rus-project\\\\averages\\\\s_post_set_averages_fibers\\\\'\n",
    "fname8 = 'out_ALLELEMENTS_s_frame_0008.npy'\n",
    "sfib8 = np.load(folder+fname8)\n",
    "\n",
    "print sfib8"
   ]
  },
  {
   "cell_type": "code",
   "execution_count": 21,
   "metadata": {
    "scrolled": true
   },
   "outputs": [
    {
     "name": "stdout",
     "output_type": "stream",
     "text": [
      "[ 5.28212180e+06  1.44779922e+07 -3.09093628e+07 -1.47896726e+08\n",
      " -2.09604162e+08 -8.43583211e+06]\n"
     ]
    }
   ],
   "source": [
    "folder = 'C:\\\\Users\\\\mason\\\\Documents\\\\Python Scripts\\\\rus-project\\\\averages\\\\s_post_set_averages_fibers\\\\'\n",
    "fname9 = 'out_ALLELEMENTS_s_frame_0009.npy'\n",
    "sfib9 = np.load(folder+fname9)\n",
    "\n",
    "print sfib9"
   ]
  },
  {
   "cell_type": "markdown",
   "metadata": {},
   "source": [
    "Strain of sphere filled matrix (mode 7-9)"
   ]
  },
  {
   "cell_type": "code",
   "execution_count": 26,
   "metadata": {
    "scrolled": true
   },
   "outputs": [
    {
     "name": "stdout",
     "output_type": "stream",
     "text": [
      "[ 8.30017920e-05 -4.22032497e-05  9.21397094e-05  2.87699671e-04\n",
      "  2.10588217e-03  9.81920329e-04]\n"
     ]
    }
   ],
   "source": [
    "folder = 'C:\\\\Users\\\\mason\\\\Documents\\\\Python Scripts\\\\rus-project\\\\averages\\\\ee_post_set_averages_sph\\\\'\n",
    "fname7 = 'out_ALLELEMENTS_EE_frame_0007.npy'\n",
    "ee11sph7 = np.load(folder+fname7)\n",
    "\n",
    "print ee11sph7"
   ]
  },
  {
   "cell_type": "code",
   "execution_count": 27,
   "metadata": {},
   "outputs": [
    {
     "name": "stdout",
     "output_type": "stream",
     "text": [
      "[ 0.00078446  0.00084803 -0.00218604  0.00077008 -0.00124525  0.00110075]\n"
     ]
    }
   ],
   "source": [
    "folder = 'C:\\\\Users\\\\mason\\\\Documents\\\\Python Scripts\\\\rus-project\\\\averages\\\\ee_post_set_averages_sph\\\\'\n",
    "fname8 = 'out_ALLELEMENTS_EE_frame_0008.npy'\n",
    "ee11sph8 = np.load(folder+fname8)\n",
    "\n",
    "print ee11sph8"
   ]
  },
  {
   "cell_type": "code",
   "execution_count": 28,
   "metadata": {},
   "outputs": [
    {
     "name": "stdout",
     "output_type": "stream",
     "text": [
      "[-0.00049278 -0.00051255  0.0011254  -0.00319802  0.00659385 -0.00103924]\n"
     ]
    }
   ],
   "source": [
    "folder = 'C:\\\\Users\\\\mason\\\\Documents\\\\Python Scripts\\\\rus-project\\\\averages\\\\ee_post_set_averages_sph\\\\'\n",
    "fname9 = 'out_ALLELEMENTS_EE_frame_0009.npy'\n",
    "ee11sph9 = np.load(folder+fname9)\n",
    "\n",
    "print ee11sph9"
   ]
  },
  {
   "cell_type": "markdown",
   "metadata": {},
   "source": [
    "Stress of fiber filled matrix (mode 7-9)"
   ]
  },
  {
   "cell_type": "code",
   "execution_count": 29,
   "metadata": {
    "scrolled": true
   },
   "outputs": [
    {
     "name": "stdout",
     "output_type": "stream",
     "text": [
      "[ 1623852.01117703 -1633423.64913541  3123456.30758359  4803521.10069237\n",
      " 41501504.78215814 19728905.31139258]\n"
     ]
    }
   ],
   "source": [
    "folder = 'C:\\\\Users\\\\mason\\\\Documents\\\\Python Scripts\\\\rus-project\\\\averages\\\\s_post_set_averages_sph\\\\'\n",
    "fname7 = 'out_ALLELEMENTS_s_frame_0007.npy'\n",
    "ssph7 = np.load(folder+fname7)\n",
    "\n",
    "print ssph7"
   ]
  },
  {
   "cell_type": "code",
   "execution_count": 30,
   "metadata": {
    "scrolled": true
   },
   "outputs": [
    {
     "name": "stdout",
     "output_type": "stream",
     "text": [
      "[ 2.37945957e+07  3.25796342e+07 -1.42967795e+08  2.53744337e+07\n",
      " -2.43068976e+07  5.16001189e+07]\n"
     ]
    }
   ],
   "source": [
    "folder = 'C:\\\\Users\\\\mason\\\\Documents\\\\Python Scripts\\\\rus-project\\\\averages\\\\s_post_set_averages_sph\\\\'\n",
    "fname8 = 'out_ALLELEMENTS_s_frame_0008.npy'\n",
    "ssph8 = np.load(folder+fname8)\n",
    "\n",
    "print ssph8"
   ]
  },
  {
   "cell_type": "code",
   "execution_count": 31,
   "metadata": {
    "scrolled": true
   },
   "outputs": [
    {
     "name": "stdout",
     "output_type": "stream",
     "text": [
      "[-1.48113811e+07 -1.96343940e+07  6.74248698e+07 -9.70149146e+07\n",
      "  2.31382826e+08 -3.66109855e+07]\n"
     ]
    }
   ],
   "source": [
    "folder = 'C:\\\\Users\\\\mason\\\\Documents\\\\Python Scripts\\\\rus-project\\\\averages\\\\s_post_set_averages_sph\\\\'\n",
    "fname9 = 'out_ALLELEMENTS_s_frame_0009.npy'\n",
    "ssph9 = np.load(folder+fname9)\n",
    "\n",
    "print ssph9"
   ]
  },
  {
   "cell_type": "markdown",
   "metadata": {},
   "source": [
    "Strain of base matrix (mode 7-9)"
   ]
  },
  {
   "cell_type": "code",
   "execution_count": 32,
   "metadata": {
    "scrolled": true
   },
   "outputs": [
    {
     "name": "stdout",
     "output_type": "stream",
     "text": [
      "[ 7.89463247e-11 -2.84019562e-11 -4.07960515e-11 -1.94116175e-10\n",
      " -6.03583387e-11  3.42901625e-10]\n"
     ]
    }
   ],
   "source": [
    "folder = 'C:\\\\Users\\\\mason\\\\Documents\\\\Python Scripts\\\\rus-project\\\\averages\\\\ee_post_set_averages_matrix\\\\'\n",
    "fname7 = 'out_ALLELEMENTS_EE_frame_0007.npy'\n",
    "ee11mat7 = np.load(folder+fname7)\n",
    "\n",
    "print ee11mat7"
   ]
  },
  {
   "cell_type": "code",
   "execution_count": 34,
   "metadata": {},
   "outputs": [
    {
     "name": "stdout",
     "output_type": "stream",
     "text": [
      "[-2.28729683e-09  1.32698033e-09  1.42565754e-09 -3.46474497e-11\n",
      "  8.64646154e-10  3.14663074e-10]\n"
     ]
    }
   ],
   "source": [
    "folder = 'C:\\\\Users\\\\mason\\\\Documents\\\\Python Scripts\\\\rus-project\\\\averages\\\\ee_post_set_averages_matrix\\\\'\n",
    "fname8 = 'out_ALLELEMENTS_EE_frame_0008.npy'\n",
    "ee11mat8 = np.load(folder+fname8)\n",
    "\n",
    "print ee11mat8"
   ]
  },
  {
   "cell_type": "code",
   "execution_count": 35,
   "metadata": {},
   "outputs": [
    {
     "name": "stdout",
     "output_type": "stream",
     "text": [
      "[-7.41102736e-10  7.27654658e-10  2.77035618e-10  2.09314801e-10\n",
      "  2.24486497e-10 -6.79225247e-11]\n"
     ]
    }
   ],
   "source": [
    "folder = 'C:\\\\Users\\\\mason\\\\Documents\\\\Python Scripts\\\\rus-project\\\\averages\\\\ee_post_set_averages_matrix\\\\'\n",
    "fname9 = 'out_ALLELEMENTS_EE_frame_0009.npy'\n",
    "ee11mat9 = np.load(folder+fname9)\n",
    "\n",
    "print ee11mat9"
   ]
  },
  {
   "cell_type": "markdown",
   "metadata": {},
   "source": [
    "Stress of fiber filled matrix (mode 7-9)"
   ]
  },
  {
   "cell_type": "code",
   "execution_count": 36,
   "metadata": {
    "scrolled": true
   },
   "outputs": [
    {
     "name": "stdout",
     "output_type": "stream",
     "text": [
      "[ 6.69765067 -1.58510641 -2.55440519 -7.50825857 -2.14111155 13.10773591]\n"
     ]
    }
   ],
   "source": [
    "folder = 'C:\\\\Users\\\\mason\\\\Documents\\\\Python Scripts\\\\rus-project\\\\averages\\\\s_post_set_averages_matrix\\\\'\n",
    "fname7 = 'out_ALLELEMENTS_s_frame_0007.npy'\n",
    "smat7 = np.load(folder+fname7)\n",
    "\n",
    "print smat7"
   ]
  },
  {
   "cell_type": "code",
   "execution_count": 37,
   "metadata": {
    "scrolled": true
   },
   "outputs": [
    {
     "name": "stdout",
     "output_type": "stream",
     "text": [
      "[-149.38963447  128.71128516  137.00858631   -1.28701064   33.49438016\n",
      "   12.09051464]\n"
     ]
    }
   ],
   "source": [
    "folder = 'C:\\\\Users\\\\mason\\\\Documents\\\\Python Scripts\\\\rus-project\\\\averages\\\\s_post_set_averages_matrix\\\\'\n",
    "fname8 = 'out_ALLELEMENTS_s_frame_0008.npy'\n",
    "smat8 = np.load(folder+fname8)\n",
    "\n",
    "print smat8"
   ]
  },
  {
   "cell_type": "code",
   "execution_count": 38,
   "metadata": {
    "scrolled": true
   },
   "outputs": [
    {
     "name": "stdout",
     "output_type": "stream",
     "text": [
      "[-41.78048943  71.27386025  36.58504996   8.0317827    8.70296562\n",
      "  -2.68265867]\n"
     ]
    }
   ],
   "source": [
    "folder = 'C:\\\\Users\\\\mason\\\\Documents\\\\Python Scripts\\\\rus-project\\\\averages\\\\s_post_set_averages_matrix\\\\'\n",
    "fname9 = 'out_ALLELEMENTS_s_frame_0009.npy'\n",
    "smat9 = np.load(folder+fname9)\n",
    "\n",
    "print smat9"
   ]
  },
  {
   "cell_type": "markdown",
   "metadata": {},
   "source": [
    "Strain of Homgonized matrix (mode 7-9)"
   ]
  },
  {
   "cell_type": "code",
   "execution_count": 39,
   "metadata": {
    "scrolled": true
   },
   "outputs": [
    {
     "name": "stdout",
     "output_type": "stream",
     "text": [
      "[ 7.00222080e-05 -3.63067861e-05  5.51948865e-05  2.43700806e-04\n",
      "  1.60185529e-03  7.86597706e-04]\n"
     ]
    }
   ],
   "source": [
    "folder = 'C:\\\\Users\\\\mason\\\\Documents\\\\Python Scripts\\\\rus-project\\\\averages\\\\ee_post_set_averages_avgE\\\\'\n",
    "fname7 = 'out_ALLELEMENTS_EE_frame_0007.npy'\n",
    "ee11avgE7 = np.load(folder+fname7)\n",
    "\n",
    "print ee11avgE7"
   ]
  },
  {
   "cell_type": "code",
   "execution_count": 34,
   "metadata": {},
   "outputs": [
    {
     "name": "stdout",
     "output_type": "stream",
     "text": [
      "[-2.28729683e-09  1.32698033e-09  1.42565754e-09 -3.46474497e-11\n",
      "  8.64646154e-10  3.14663074e-10]\n"
     ]
    }
   ],
   "source": [
    "folder = 'C:\\\\Users\\\\mason\\\\Documents\\\\Python Scripts\\\\rus-project\\\\averages\\\\ee_post_set_averages_avgE\\\\'\n",
    "fname8 = 'out_ALLELEMENTS_EE_frame_0008.npy'\n",
    "ee11avgE8 = np.load(folder+fname8)\n",
    "\n",
    "print ee11avgE8"
   ]
  },
  {
   "cell_type": "code",
   "execution_count": 40,
   "metadata": {},
   "outputs": [
    {
     "name": "stdout",
     "output_type": "stream",
     "text": [
      "[-0.00037957 -0.00042898  0.00090782 -0.00266013  0.00517381 -0.00079727]\n"
     ]
    }
   ],
   "source": [
    "folder = 'C:\\\\Users\\\\mason\\\\Documents\\\\Python Scripts\\\\rus-project\\\\averages\\\\ee_post_set_averages_avgE\\\\'\n",
    "fname9 = 'out_ALLELEMENTS_EE_frame_0009.npy'\n",
    "ee11avgE9 = np.load(folder+fname9)\n",
    "\n",
    "print ee11avgE9"
   ]
  },
  {
   "cell_type": "markdown",
   "metadata": {},
   "source": [
    "Stress of fiber filled matrix (mode 7-9)"
   ]
  },
  {
   "cell_type": "code",
   "execution_count": 41,
   "metadata": {
    "scrolled": true
   },
   "outputs": [
    {
     "name": "stdout",
     "output_type": "stream",
     "text": [
      "[ 1794867.11811395 -1931883.05443268  2619904.48376987  5429147.66648281\n",
      " 43353321.11556622 21301103.54945024]\n"
     ]
    }
   ],
   "source": [
    "folder = 'C:\\\\Users\\\\mason\\\\Documents\\\\Python Scripts\\\\rus-project\\\\averages\\\\s_post_set_averages_avgE\\\\'\n",
    "fname7 = 'out_ALLELEMENTS_s_frame_0007.npy'\n",
    "savgE7 = np.load(folder+fname7)\n",
    "\n",
    "print savgE7"
   ]
  },
  {
   "cell_type": "code",
   "execution_count": 42,
   "metadata": {
    "scrolled": true
   },
   "outputs": [
    {
     "name": "stdout",
     "output_type": "stream",
     "text": [
      "[ 2.55395530e+07  3.99135632e+07 -1.60396528e+08  2.86391967e+07\n",
      " -2.58797005e+07  5.94442197e+07]\n"
     ]
    }
   ],
   "source": [
    "folder = 'C:\\\\Users\\\\mason\\\\Documents\\\\Python Scripts\\\\rus-project\\\\averages\\\\s_post_set_averages_avgE\\\\'\n",
    "fname8 = 'out_ALLELEMENTS_s_frame_0008.npy'\n",
    "savgE8 = np.load(folder+fname8)\n",
    "\n",
    "print savgE8"
   ]
  },
  {
   "cell_type": "code",
   "execution_count": 44,
   "metadata": {
    "scrolled": true
   },
   "outputs": [
    {
     "name": "stdout",
     "output_type": "stream",
     "text": [
      "[-1.52183925e+07 -2.26599711e+07  7.41802024e+07 -1.10028565e+08\n",
      "  2.47678700e+08 -3.91305144e+07]\n"
     ]
    }
   ],
   "source": [
    "folder = 'C:\\\\Users\\\\mason\\\\Documents\\\\Python Scripts\\\\rus-project\\\\averages\\\\s_post_set_averages_avgE\\\\'\n",
    "fname9 = 'out_ALLELEMENTS_s_frame_0009.npy'\n",
    "savgE9 = np.load(folder+fname9)\n",
    "\n",
    "print savgE9"
   ]
  },
  {
   "cell_type": "code",
   "execution_count": null,
   "metadata": {},
   "outputs": [],
   "source": []
  }
 ],
 "metadata": {
  "kernelspec": {
   "display_name": "Python 2",
   "language": "python",
   "name": "python2"
  },
  "language_info": {
   "codemirror_mode": {
    "name": "ipython",
    "version": 2
   },
   "file_extension": ".py",
   "mimetype": "text/x-python",
   "name": "python",
   "nbconvert_exporter": "python",
   "pygments_lexer": "ipython2",
   "version": "2.7.15"
  }
 },
 "nbformat": 4,
 "nbformat_minor": 2
}
